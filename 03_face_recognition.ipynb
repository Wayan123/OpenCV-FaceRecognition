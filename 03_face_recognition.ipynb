{
 "cells": [
  {
   "cell_type": "code",
   "execution_count": 1,
   "source": [
    "''''\r\n",
    "Real Time Face Recogition\r\n",
    "\t==> Each face stored on dataset/ dir, should have a unique numeric integer ID as 1, 2, 3, etc                       \r\n",
    "\t==> LBPH computed model (trained faces) should be on trainer/ dir\r\n",
    "Based on original code by Anirban Kar: https://github.com/thecodacus/Face-Recognition    \r\n",
    "\r\n",
    "Developed by Marcelo Rovai - MJRoBot.org @ 21Feb18  \r\n",
    "\r\n",
    "'''\r\n",
    "\r\n",
    "import cv2\r\n",
    "import numpy as np\r\n",
    "import os \r\n",
    "\r\n",
    "recognizer = cv2.face.LBPHFaceRecognizer_create()\r\n",
    "recognizer.read('trainer/trainer.yml')\r\n",
    "cascadePath = \"haarcascade_frontalface_default.xml\"\r\n",
    "faceCascade = cv2.CascadeClassifier(cascadePath);\r\n",
    "\r\n",
    "font = cv2.FONT_HERSHEY_SIMPLEX\r\n",
    "\r\n",
    "#iniciate id counter\r\n",
    "id = 0\r\n",
    "\r\n",
    "# names related to ids: example ==> Marcelo: id=1,  etc\r\n",
    "names = ['None', 'Wayan', 'Muthia'] \r\n",
    "\r\n",
    "# Initialize and start realtime video capture\r\n",
    "cam = cv2.VideoCapture(0)\r\n",
    "cam.set(3, 640) # set video widht\r\n",
    "cam.set(4, 480) # set video height\r\n",
    "\r\n",
    "# Define min window size to be recognized as a face\r\n",
    "minW = 0.1*cam.get(3)\r\n",
    "minH = 0.1*cam.get(4)\r\n",
    "\r\n",
    "while True:\r\n",
    "\r\n",
    "    ret, img =cam.read()\r\n",
    "    img = cv2.flip(img, 1) # Flip vertically\r\n",
    "\r\n",
    "    gray = cv2.cvtColor(img,cv2.COLOR_BGR2GRAY)\r\n",
    "\r\n",
    "    faces = faceCascade.detectMultiScale( \r\n",
    "        gray,\r\n",
    "        scaleFactor = 1.2,\r\n",
    "        minNeighbors = 5,\r\n",
    "        minSize = (int(minW), int(minH)),\r\n",
    "       )\r\n",
    "\r\n",
    "    for(x,y,w,h) in faces:\r\n",
    "\r\n",
    "        cv2.rectangle(img, (x,y), (x+w,y+h), (0,255,0), 2)\r\n",
    "\r\n",
    "        id, confidence = recognizer.predict(gray[y:y+h,x:x+w])\r\n",
    "\r\n",
    "        # Check if confidence is less them 100 ==> \"0\" is perfect match \r\n",
    "        if (confidence < 100):\r\n",
    "            id = names[id]\r\n",
    "            confidence = \"  {0}%\".format(round(100 - confidence))\r\n",
    "        else:\r\n",
    "            id = \"unknown\"\r\n",
    "            confidence = \"  {0}%\".format(round(100 - confidence))\r\n",
    "        \r\n",
    "        cv2.putText(img, str(id), (x+5,y-5), font, 1, (255,255,255), 2)\r\n",
    "        cv2.putText(img, str(confidence), (x+5,y+h-5), font, 1, (255,255,0), 1)  \r\n",
    "    \r\n",
    "    cv2.imshow('camera',img) \r\n",
    "\r\n",
    "    k = cv2.waitKey(10) & 0xff # Press 'ESC' for exiting video\r\n",
    "    if k == 27:\r\n",
    "        break\r\n",
    "\r\n",
    "# Do a bit of cleanup\r\n",
    "print(\"\\n [INFO] Exiting Program and cleanup stuff\")\r\n",
    "cam.release()\r\n",
    "cv2.destroyAllWindows()\r\n"
   ],
   "outputs": [
    {
     "output_type": "stream",
     "name": "stdout",
     "text": [
      "\n",
      " [INFO] Exiting Program and cleanup stuff\n"
     ]
    }
   ],
   "metadata": {}
  },
  {
   "cell_type": "code",
   "execution_count": null,
   "source": [],
   "outputs": [],
   "metadata": {}
  }
 ],
 "metadata": {
  "kernelspec": {
   "display_name": "tf23p38gpu-riset",
   "language": "python",
   "name": "tf23p38gpu-riset"
  },
  "language_info": {
   "codemirror_mode": {
    "name": "ipython",
    "version": 3
   },
   "file_extension": ".py",
   "mimetype": "text/x-python",
   "name": "python",
   "nbconvert_exporter": "python",
   "pygments_lexer": "ipython3",
   "version": "3.8.8"
  }
 },
 "nbformat": 4,
 "nbformat_minor": 4
}