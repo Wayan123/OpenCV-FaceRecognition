{
 "cells": [
  {
   "cell_type": "code",
   "execution_count": 1,
   "source": [
    "''''\r\n",
    "Capture multiple Faces from multiple users to be stored on a DataBase (dataset directory)\r\n",
    "\t==> Faces will be stored on a directory: dataset/ (if does not exist, pls create one)\r\n",
    "\t==> Each face will have a unique numeric integer ID as 1, 2, 3, etc                       \r\n",
    "\r\n",
    "Based on original code by Anirban Kar: https://github.com/thecodacus/Face-Recognition    \r\n",
    "\r\n",
    "Developed by Marcelo Rovai - MJRoBot.org @ 21Feb18    \r\n",
    "\r\n",
    "'''\r\n",
    "\r\n",
    "import cv2\r\n",
    "import os\r\n",
    "\r\n",
    "cam = cv2.VideoCapture(0)\r\n",
    "cam.set(3, 640) # set video width\r\n",
    "cam.set(4, 480) # set video height\r\n",
    "\r\n",
    "face_detector = cv2.CascadeClassifier('haarcascade_frontalface_default.xml')\r\n",
    "\r\n",
    "# For each person, enter one numeric face id\r\n",
    "face_id = input('\\n enter user id end press <return> ==>  ')\r\n",
    "\r\n",
    "print(\"\\n [INFO] Initializing face capture. Look the camera and wait ...\")\r\n",
    "# Initialize individual sampling face count\r\n",
    "count = 0\r\n",
    "\r\n",
    "while(True):\r\n",
    "\r\n",
    "    ret, img = cam.read()\r\n",
    "    img = cv2.flip(img, 1) # flip video image vertically\r\n",
    "    gray = cv2.cvtColor(img, cv2.COLOR_BGR2GRAY)\r\n",
    "    faces = face_detector.detectMultiScale(gray, 1.3, 5)\r\n",
    "\r\n",
    "    for (x,y,w,h) in faces:\r\n",
    "\r\n",
    "        cv2.rectangle(img, (x,y), (x+w,y+h), (255,0,0), 2)     \r\n",
    "        count += 1\r\n",
    "\r\n",
    "        # Save the captured image into the datasets folder\r\n",
    "        cv2.imwrite(\"dataset/User.\" + str(face_id) + '.' + str(count) + \".jpg\", gray[y:y+h,x:x+w])\r\n",
    "\r\n",
    "        cv2.imshow('image', img)\r\n",
    "\r\n",
    "    k = cv2.waitKey(100) & 0xff # Press 'ESC' for exiting video\r\n",
    "    if k == 27:\r\n",
    "        break\r\n",
    "    elif count >= 40: # Take 30 face sample and stop video\r\n",
    "         break\r\n",
    "\r\n",
    "# Do a bit of cleanup\r\n",
    "print(\"\\n [INFO] Exiting Program and cleanup stuff\")\r\n",
    "cam.release()\r\n",
    "cv2.destroyAllWindows()\r\n",
    "\r\n",
    "\r\n"
   ],
   "outputs": [
    {
     "output_type": "stream",
     "name": "stdout",
     "text": [
      "\n",
      " [INFO] Initializing face capture. Look the camera and wait ...\n",
      "\n",
      " [INFO] Exiting Program and cleanup stuff\n"
     ]
    }
   ],
   "metadata": {}
  }
 ],
 "metadata": {
  "kernelspec": {
   "display_name": "tf23p38gpu-riset",
   "language": "python",
   "name": "tf23p38gpu-riset"
  },
  "language_info": {
   "codemirror_mode": {
    "name": "ipython",
    "version": 3
   },
   "file_extension": ".py",
   "mimetype": "text/x-python",
   "name": "python",
   "nbconvert_exporter": "python",
   "pygments_lexer": "ipython3",
   "version": "3.8.8"
  }
 },
 "nbformat": 4,
 "nbformat_minor": 4
}